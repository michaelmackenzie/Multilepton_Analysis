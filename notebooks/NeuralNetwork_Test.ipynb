{
 "cells": [
  {
   "cell_type": "code",
   "execution_count": 64,
   "metadata": {},
   "outputs": [],
   "source": [
    "import numpy as np\n",
    "import pandas as pd\n",
    "import matplotlib.pyplot as plt\n",
    "import uproot\n",
    "\n",
    "from sklearn.model_selection import train_test_split\n",
    "from sklearn import svm\n",
    "from sklearn.metrics import roc_curve, auc\n",
    "import warnings\n",
    "warnings.simplefilter(action='ignore')\n"
   ]
  },
  {
   "cell_type": "code",
   "execution_count": 10,
   "metadata": {},
   "outputs": [
    {
     "data": {
      "text/plain": [
       "['tree_8;132', 'background_tree;1']"
      ]
     },
     "execution_count": 10,
     "metadata": {},
     "output_type": "execute_result"
    }
   ],
   "source": [
    "file = uproot.open(\"../tmva_training/trees/background_ztautau_Z0_nano_mutau_2016_2017_2018_8.tree\")\n",
    "file.keys()"
   ]
  },
  {
   "cell_type": "code",
   "execution_count": 12,
   "metadata": {},
   "outputs": [],
   "source": [
    "tree = file[\"background_tree\"]"
   ]
  },
  {
   "cell_type": "code",
   "execution_count": 13,
   "metadata": {},
   "outputs": [
    {
     "name": "stdout",
     "output_type": "stream",
     "text": [
      "name                 | typename                 | interpretation                \n",
      "---------------------+--------------------------+-------------------------------\n",
      "leponept             | float                    | AsDtype('>f4')\n",
      "leponeptoverm        | float                    | AsDtype('>f4')\n",
      "leponeeta            | float                    | AsDtype('>f4')\n",
      "leponed0             | float                    | AsDtype('>f4')\n",
      "leptwopt             | float                    | AsDtype('>f4')\n",
      "leptwoptoverm        | float                    | AsDtype('>f4')\n",
      "leptwoeta            | float                    | AsDtype('>f4')\n",
      "leptwod0             | float                    | AsDtype('>f4')\n",
      "leppt                | float                    | AsDtype('>f4')\n",
      "lepm                 | float                    | AsDtype('>f4')\n",
      "lepptoverm           | float                    | AsDtype('>f4')\n",
      "lepeta               | float                    | AsDtype('>f4')\n",
      "lepdeltaeta          | float                    | AsDtype('>f4')\n",
      "lepdeltar            | float                    | AsDtype('>f4')\n",
      "lepdeltaphi          | float                    | AsDtype('>f4')\n",
      "deltaalphaz1         | float                    | AsDtype('>f4')\n",
      "deltaalphaz2         | float                    | AsDtype('>f4')\n",
      "deltaalphah1         | float                    | AsDtype('>f4')\n",
      "deltaalphah2         | float                    | AsDtype('>f4')\n",
      "deltaalpham1         | float                    | AsDtype('>f4')\n",
      "deltaalpham2         | float                    | AsDtype('>f4')\n",
      "htdeltaphi           | float                    | AsDtype('>f4')\n",
      "metdeltaphi          | float                    | AsDtype('>f4')\n",
      "leponedeltaphi       | float                    | AsDtype('>f4')\n",
      "leptwodeltaphi       | float                    | AsDtype('>f4')\n",
      "onemetdeltaphi       | float                    | AsDtype('>f4')\n",
      "twometdeltaphi       | float                    | AsDtype('>f4')\n",
      "lepmestimate         | float                    | AsDtype('>f4')\n",
      "lepmestimatetwo      | float                    | AsDtype('>f4')\n",
      "met                  | float                    | AsDtype('>f4')\n",
      "mtone                | float                    | AsDtype('>f4')\n",
      "mttwo                | float                    | AsDtype('>f4')\n",
      "mtoneoverm           | float                    | AsDtype('>f4')\n",
      "mttwooverm           | float                    | AsDtype('>f4')\n",
      "pxivis               | float                    | AsDtype('>f4')\n",
      "pxiinv               | float                    | AsDtype('>f4')\n",
      "ht                   | float                    | AsDtype('>f4')\n",
      "htsum                | float                    | AsDtype('>f4')\n",
      "jetpt                | float                    | AsDtype('>f4')\n",
      "njets                | float                    | AsDtype('>f4')\n",
      "leponeprimepx0       | float                    | AsDtype('>f4')\n",
      "leptwoprimepx0       | float                    | AsDtype('>f4')\n",
      "metprimepx0          | float                    | AsDtype('>f4')\n",
      "leponeprimepy0       | float                    | AsDtype('>f4')\n",
      "leptwoprimepy0       | float                    | AsDtype('>f4')\n",
      "metprimepy0          | float                    | AsDtype('>f4')\n",
      "leponeprimepz0       | float                    | AsDtype('>f4')\n",
      "leptwoprimepz0       | float                    | AsDtype('>f4')\n",
      "metprimepz0          | float                    | AsDtype('>f4')\n",
      "leponeprimee0        | float                    | AsDtype('>f4')\n",
      "leptwoprimee0        | float                    | AsDtype('>f4')\n",
      "metprimee0           | float                    | AsDtype('>f4')\n",
      "leponeprimepx1       | float                    | AsDtype('>f4')\n",
      "leptwoprimepx1       | float                    | AsDtype('>f4')\n",
      "metprimepx1          | float                    | AsDtype('>f4')\n",
      "leponeprimepy1       | float                    | AsDtype('>f4')\n",
      "leptwoprimepy1       | float                    | AsDtype('>f4')\n",
      "metprimepy1          | float                    | AsDtype('>f4')\n",
      "leponeprimepz1       | float                    | AsDtype('>f4')\n",
      "leptwoprimepz1       | float                    | AsDtype('>f4')\n",
      "metprimepz1          | float                    | AsDtype('>f4')\n",
      "leponeprimee1        | float                    | AsDtype('>f4')\n",
      "leptwoprimee1        | float                    | AsDtype('>f4')\n",
      "metprimee1           | float                    | AsDtype('>f4')\n",
      "leponeprimepx2       | float                    | AsDtype('>f4')\n",
      "leptwoprimepx2       | float                    | AsDtype('>f4')\n",
      "metprimepx2          | float                    | AsDtype('>f4')\n",
      "leponeprimepy2       | float                    | AsDtype('>f4')\n",
      "leptwoprimepy2       | float                    | AsDtype('>f4')\n",
      "metprimepy2          | float                    | AsDtype('>f4')\n",
      "leponeprimepz2       | float                    | AsDtype('>f4')\n",
      "leptwoprimepz2       | float                    | AsDtype('>f4')\n",
      "metprimepz2          | float                    | AsDtype('>f4')\n",
      "leponeprimee2        | float                    | AsDtype('>f4')\n",
      "leptwoprimee2        | float                    | AsDtype('>f4')\n",
      "metprimee2           | float                    | AsDtype('>f4')\n",
      "eventweight          | float                    | AsDtype('>f4')\n",
      "fulleventweight      | float                    | AsDtype('>f4')\n",
      "fulleventweightlum   | float                    | AsDtype('>f4')\n",
      "eventcategory        | float                    | AsDtype('>f4')\n",
      "category             | float                    | AsDtype('>f4')\n",
      "train                | float                    | AsDtype('>f4')\n",
      "issignal             | float                    | AsDtype('>f4')\n",
      "mva0                 | float                    | AsDtype('>f4')\n",
      "mva1                 | float                    | AsDtype('>f4')\n",
      "mva2                 | float                    | AsDtype('>f4')\n",
      "mva3                 | float                    | AsDtype('>f4')\n",
      "mva4                 | float                    | AsDtype('>f4')\n",
      "mva5                 | float                    | AsDtype('>f4')\n",
      "mva6                 | float                    | AsDtype('>f4')\n",
      "mva7                 | float                    | AsDtype('>f4')\n",
      "mva8                 | float                    | AsDtype('>f4')\n",
      "mva9                 | float                    | AsDtype('>f4')\n"
     ]
    }
   ],
   "source": [
    "tree.show()"
   ]
  },
  {
   "cell_type": "code",
   "execution_count": 38,
   "metadata": {},
   "outputs": [],
   "source": [
    "data = tree.arrays([\"issignal\",\"leponeprimepz0\", \"leponeprimee0\", \"leptwoprimepx0\", \"leptwoprimepz0\", \"leptwoprimee0\", \"metprimee0\", \"lepm\", \"lepmestimate\",\"deltaalphaz2\"], library=\"pd\")"
   ]
  },
  {
   "cell_type": "code",
   "execution_count": 39,
   "metadata": {},
   "outputs": [
    {
     "data": {
      "text/html": [
       "<div>\n",
       "<style scoped>\n",
       "    .dataframe tbody tr th:only-of-type {\n",
       "        vertical-align: middle;\n",
       "    }\n",
       "\n",
       "    .dataframe tbody tr th {\n",
       "        vertical-align: top;\n",
       "    }\n",
       "\n",
       "    .dataframe thead th {\n",
       "        text-align: right;\n",
       "    }\n",
       "</style>\n",
       "<table border=\"1\" class=\"dataframe\">\n",
       "  <thead>\n",
       "    <tr style=\"text-align: right;\">\n",
       "      <th></th>\n",
       "      <th>issignal</th>\n",
       "      <th>leponeprimepz0</th>\n",
       "      <th>leponeprimee0</th>\n",
       "      <th>leptwoprimepx0</th>\n",
       "      <th>leptwoprimepz0</th>\n",
       "      <th>leptwoprimee0</th>\n",
       "      <th>metprimee0</th>\n",
       "      <th>lepm</th>\n",
       "      <th>lepmestimate</th>\n",
       "      <th>deltaalphaz2</th>\n",
       "    </tr>\n",
       "  </thead>\n",
       "  <tbody>\n",
       "    <tr>\n",
       "      <th>0</th>\n",
       "      <td>-1.0</td>\n",
       "      <td>-26.753578</td>\n",
       "      <td>43.379353</td>\n",
       "      <td>-28.068172</td>\n",
       "      <td>14.138433</td>\n",
       "      <td>44.466560</td>\n",
       "      <td>14.746703</td>\n",
       "      <td>85.675537</td>\n",
       "      <td>85.675537</td>\n",
       "      <td>-1.471326</td>\n",
       "    </tr>\n",
       "    <tr>\n",
       "      <th>1</th>\n",
       "      <td>-1.0</td>\n",
       "      <td>12.692028</td>\n",
       "      <td>25.026943</td>\n",
       "      <td>-41.141609</td>\n",
       "      <td>69.342896</td>\n",
       "      <td>80.707962</td>\n",
       "      <td>19.850487</td>\n",
       "      <td>63.687511</td>\n",
       "      <td>63.687511</td>\n",
       "      <td>0.697536</td>\n",
       "    </tr>\n",
       "    <tr>\n",
       "      <th>2</th>\n",
       "      <td>-1.0</td>\n",
       "      <td>-1.259534</td>\n",
       "      <td>31.713039</td>\n",
       "      <td>-25.827244</td>\n",
       "      <td>3.242361</td>\n",
       "      <td>40.793461</td>\n",
       "      <td>21.633057</td>\n",
       "      <td>69.175659</td>\n",
       "      <td>69.175659</td>\n",
       "      <td>0.965933</td>\n",
       "    </tr>\n",
       "    <tr>\n",
       "      <th>3</th>\n",
       "      <td>-1.0</td>\n",
       "      <td>15.473433</td>\n",
       "      <td>40.311726</td>\n",
       "      <td>26.314241</td>\n",
       "      <td>34.156406</td>\n",
       "      <td>44.537109</td>\n",
       "      <td>9.208794</td>\n",
       "      <td>68.201187</td>\n",
       "      <td>78.441765</td>\n",
       "      <td>-0.066308</td>\n",
       "    </tr>\n",
       "    <tr>\n",
       "      <th>4</th>\n",
       "      <td>-1.0</td>\n",
       "      <td>11.082369</td>\n",
       "      <td>35.894814</td>\n",
       "      <td>13.050830</td>\n",
       "      <td>47.534008</td>\n",
       "      <td>57.673565</td>\n",
       "      <td>3.375119</td>\n",
       "      <td>72.854446</td>\n",
       "      <td>74.703079</td>\n",
       "      <td>0.208333</td>\n",
       "    </tr>\n",
       "  </tbody>\n",
       "</table>\n",
       "</div>"
      ],
      "text/plain": [
       "   issignal  leponeprimepz0  leponeprimee0  leptwoprimepx0  leptwoprimepz0  \\\n",
       "0      -1.0      -26.753578      43.379353      -28.068172       14.138433   \n",
       "1      -1.0       12.692028      25.026943      -41.141609       69.342896   \n",
       "2      -1.0       -1.259534      31.713039      -25.827244        3.242361   \n",
       "3      -1.0       15.473433      40.311726       26.314241       34.156406   \n",
       "4      -1.0       11.082369      35.894814       13.050830       47.534008   \n",
       "\n",
       "   leptwoprimee0  metprimee0       lepm  lepmestimate  deltaalphaz2  \n",
       "0      44.466560   14.746703  85.675537     85.675537     -1.471326  \n",
       "1      80.707962   19.850487  63.687511     63.687511      0.697536  \n",
       "2      40.793461   21.633057  69.175659     69.175659      0.965933  \n",
       "3      44.537109    9.208794  68.201187     78.441765     -0.066308  \n",
       "4      57.673565    3.375119  72.854446     74.703079      0.208333  "
      ]
     },
     "execution_count": 39,
     "metadata": {},
     "output_type": "execute_result"
    }
   ],
   "source": [
    "data.head()"
   ]
  },
  {
   "cell_type": "code",
   "execution_count": 40,
   "metadata": {},
   "outputs": [],
   "source": [
    "data[\"issignal\"] = (data[\"issignal\"] > 0.5) * 1"
   ]
  },
  {
   "cell_type": "code",
   "execution_count": 41,
   "metadata": {},
   "outputs": [
    {
     "data": {
      "text/html": [
       "<div>\n",
       "<style scoped>\n",
       "    .dataframe tbody tr th:only-of-type {\n",
       "        vertical-align: middle;\n",
       "    }\n",
       "\n",
       "    .dataframe tbody tr th {\n",
       "        vertical-align: top;\n",
       "    }\n",
       "\n",
       "    .dataframe thead th {\n",
       "        text-align: right;\n",
       "    }\n",
       "</style>\n",
       "<table border=\"1\" class=\"dataframe\">\n",
       "  <thead>\n",
       "    <tr style=\"text-align: right;\">\n",
       "      <th></th>\n",
       "      <th>issignal</th>\n",
       "      <th>leponeprimepz0</th>\n",
       "      <th>leponeprimee0</th>\n",
       "      <th>leptwoprimepx0</th>\n",
       "      <th>leptwoprimepz0</th>\n",
       "      <th>leptwoprimee0</th>\n",
       "      <th>metprimee0</th>\n",
       "      <th>lepm</th>\n",
       "      <th>lepmestimate</th>\n",
       "      <th>deltaalphaz2</th>\n",
       "    </tr>\n",
       "  </thead>\n",
       "  <tbody>\n",
       "    <tr>\n",
       "      <th>0</th>\n",
       "      <td>0</td>\n",
       "      <td>-26.753578</td>\n",
       "      <td>43.379353</td>\n",
       "      <td>-28.068172</td>\n",
       "      <td>14.138433</td>\n",
       "      <td>44.466560</td>\n",
       "      <td>14.746703</td>\n",
       "      <td>85.675537</td>\n",
       "      <td>85.675537</td>\n",
       "      <td>-1.471326</td>\n",
       "    </tr>\n",
       "    <tr>\n",
       "      <th>1</th>\n",
       "      <td>0</td>\n",
       "      <td>12.692028</td>\n",
       "      <td>25.026943</td>\n",
       "      <td>-41.141609</td>\n",
       "      <td>69.342896</td>\n",
       "      <td>80.707962</td>\n",
       "      <td>19.850487</td>\n",
       "      <td>63.687511</td>\n",
       "      <td>63.687511</td>\n",
       "      <td>0.697536</td>\n",
       "    </tr>\n",
       "    <tr>\n",
       "      <th>2</th>\n",
       "      <td>0</td>\n",
       "      <td>-1.259534</td>\n",
       "      <td>31.713039</td>\n",
       "      <td>-25.827244</td>\n",
       "      <td>3.242361</td>\n",
       "      <td>40.793461</td>\n",
       "      <td>21.633057</td>\n",
       "      <td>69.175659</td>\n",
       "      <td>69.175659</td>\n",
       "      <td>0.965933</td>\n",
       "    </tr>\n",
       "    <tr>\n",
       "      <th>3</th>\n",
       "      <td>0</td>\n",
       "      <td>15.473433</td>\n",
       "      <td>40.311726</td>\n",
       "      <td>26.314241</td>\n",
       "      <td>34.156406</td>\n",
       "      <td>44.537109</td>\n",
       "      <td>9.208794</td>\n",
       "      <td>68.201187</td>\n",
       "      <td>78.441765</td>\n",
       "      <td>-0.066308</td>\n",
       "    </tr>\n",
       "    <tr>\n",
       "      <th>4</th>\n",
       "      <td>0</td>\n",
       "      <td>11.082369</td>\n",
       "      <td>35.894814</td>\n",
       "      <td>13.050830</td>\n",
       "      <td>47.534008</td>\n",
       "      <td>57.673565</td>\n",
       "      <td>3.375119</td>\n",
       "      <td>72.854446</td>\n",
       "      <td>74.703079</td>\n",
       "      <td>0.208333</td>\n",
       "    </tr>\n",
       "  </tbody>\n",
       "</table>\n",
       "</div>"
      ],
      "text/plain": [
       "   issignal  leponeprimepz0  leponeprimee0  leptwoprimepx0  leptwoprimepz0  \\\n",
       "0         0      -26.753578      43.379353      -28.068172       14.138433   \n",
       "1         0       12.692028      25.026943      -41.141609       69.342896   \n",
       "2         0       -1.259534      31.713039      -25.827244        3.242361   \n",
       "3         0       15.473433      40.311726       26.314241       34.156406   \n",
       "4         0       11.082369      35.894814       13.050830       47.534008   \n",
       "\n",
       "   leptwoprimee0  metprimee0       lepm  lepmestimate  deltaalphaz2  \n",
       "0      44.466560   14.746703  85.675537     85.675537     -1.471326  \n",
       "1      80.707962   19.850487  63.687511     63.687511      0.697536  \n",
       "2      40.793461   21.633057  69.175659     69.175659      0.965933  \n",
       "3      44.537109    9.208794  68.201187     78.441765     -0.066308  \n",
       "4      57.673565    3.375119  72.854446     74.703079      0.208333  "
      ]
     },
     "execution_count": 41,
     "metadata": {},
     "output_type": "execute_result"
    }
   ],
   "source": [
    "data.head()"
   ]
  },
  {
   "cell_type": "code",
   "execution_count": 43,
   "metadata": {},
   "outputs": [],
   "source": [
    "X,y=data.loc[:, data.columns != 'issignal'].to_numpy(),data.loc[:, data.columns == 'issignal'].to_numpy()\n",
    "X_train, X_test, y_train, y_test = train_test_split(X, y, test_size=0.33, random_state=42)\n",
    "from sklearn.neural_network import MLPClassifier"
   ]
  },
  {
   "cell_type": "markdown",
   "metadata": {},
   "source": [
    "## Classifier Training \n",
    "MLPClassifier is a class in scikit learn package that implements a multi-layer perceptron (MLP) algorithm that trains using Backpropagation. \n",
    "\n",
    "Below is an example of how to train a MLPClassifier and a list of parameters we can choose.\n",
    "\n",
    "Ref: [1]"
   ]
  },
  {
   "cell_type": "code",
   "execution_count": 65,
   "metadata": {},
   "outputs": [
    {
     "data": {
      "text/plain": [
       "MLPClassifier(activation='relu', alpha=1e-05, batch_size='auto', beta_1=0.9,\n",
       "              beta_2=0.999, early_stopping=False, epsilon=1e-08,\n",
       "              hidden_layer_sizes=(3, 10), learning_rate='constant',\n",
       "              learning_rate_init=0.001, max_fun=15000, max_iter=200,\n",
       "              momentum=0.9, n_iter_no_change=10, nesterovs_momentum=True,\n",
       "              power_t=0.5, random_state=1, shuffle=True, solver='lbfgs',\n",
       "              tol=0.0001, validation_fraction=0.1, verbose=False,\n",
       "              warm_start=False)"
      ]
     },
     "execution_count": 65,
     "metadata": {},
     "output_type": "execute_result"
    }
   ],
   "source": [
    "MVA_LBFGS = MLPClassifier(solver='lbfgs', alpha=1e-5, hidden_layer_sizes=(3,10), random_state=1)\n",
    "MVA_LBFGS.fit(X_train,y_train)"
   ]
  },
  {
   "cell_type": "markdown",
   "metadata": {},
   "source": [
    "Among the many parameters we are allowed to choose when training the classifier, we focus on the choice of algorithm, the number of layers, and number of neurons per layer.\n",
    "\n",
    "Here we need to sweep through a range of values for each parameter, thus define some useful functions to train classifier, calculate accuracy, and produce heatmap for each choice of parameter we make.\n",
    "\n",
    "Ref: [2]"
   ]
  },
  {
   "cell_type": "code",
   "execution_count": 51,
   "metadata": {},
   "outputs": [],
   "source": [
    "def MVA_Classifier(layer_size,solver):\n",
    "    #solver: can be lbfgs or sgd\n",
    "    #layerz_size: (# of neurons per layer, # of layers)\n",
    "    MVA_classifier = MLPClassifier(solver=solver, alpha=1e-5, hidden_layer_sizes=layer_size, random_state=1)\n",
    "    MVA_classifier.fit(X_train, y_train)                         \n",
    "    return MVA_classifier"
   ]
  },
  {
   "cell_type": "code",
   "execution_count": 57,
   "metadata": {},
   "outputs": [],
   "source": [
    "def accuracy_matrix(l_range, n_range,solver,data_X,data_y):\n",
    "    a_m=np.zeros((len(l_range),len(n_range)))\n",
    "    for l in range(len(l_range)):\n",
    "        for n in range(len(n_range)):\n",
    "            print(\"Training MVA with\", l_range[l], \"layers of\", n_range[n], \"neurons\")\n",
    "            a_m[l,n] = MVA_Classifier((n_range[n],l_range[l]),solver).score(data_X,data_y)\n",
    "    return a_m"
   ]
  },
  {
   "cell_type": "code",
   "execution_count": 58,
   "metadata": {},
   "outputs": [],
   "source": [
    "def plot_accuracy(am,fsize,digit,title):\n",
    "    fig, ax = plt.subplots(figsize=(fsize,fsize))\n",
    "    im = ax.imshow(am,vmin = 0.0,vmax = 1.0)\n",
    "    cbar = ax.figure.colorbar(im)\n",
    "    cbar.ax.set_ylabel('accuracy') \n",
    "    ax.set_xticks(np.arange(am.shape[1]))\n",
    "    ax.set_yticks(np.arange(am.shape[0]))\n",
    "    ax.set_xticklabels(range(1,am.shape[1]+1))\n",
    "    ax.set_yticklabels(range(1,am.shape[0]+1))\n",
    "    ax.tick_params(top=True, bottom=False,labeltop=True, labelbottom=False)\n",
    "    ax.xaxis.set_label_position('top') \n",
    "    ax.set_ylabel('# of layers',fontsize = 14)\n",
    "    ax.set_xlabel('# of neurons per layer',fontsize = 14)\n",
    "    for i in range(am.shape[0]):\n",
    "        for j in range(am.shape[1]):\n",
    "            text = ax.text(j, i, np.round(am[i, j],digit),ha=\"center\", va=\"center\", color=\"w\")\n",
    "    plt.title(title, fontsize = 24)\n",
    "    plt.show()"
   ]
  },
  {
   "cell_type": "markdown",
   "metadata": {},
   "source": [
    "## Algo Choice 1: Limited-memory BFGS (L-BFGS)\n",
    "Limited-memory BFGS (L-BFGS) is an algorithm in the Newton's Methods family. Like the regular Newton's Methods, L-BFGS also uses Hessian for parameter updates, but with less usage of computer resource.\n",
    "\n",
    "Ref: [3] [4]"
   ]
  },
  {
   "cell_type": "code",
   "execution_count": 59,
   "metadata": {},
   "outputs": [
    {
     "name": "stdout",
     "output_type": "stream",
     "text": [
      "Training MVA with 1 layers of 2 neurons\n",
      "Training MVA with 1 layers of 3 neurons\n",
      "Training MVA with 1 layers of 4 neurons\n",
      "Training MVA with 2 layers of 2 neurons\n",
      "Training MVA with 2 layers of 3 neurons\n",
      "Training MVA with 2 layers of 4 neurons\n"
     ]
    }
   ],
   "source": [
    "a_lbfgs_train = accuracy_matrix(range(1,3),range(1,5),'lbfgs',X_train,y_train)"
   ]
  },
  {
   "cell_type": "code",
   "execution_count": 63,
   "metadata": {},
   "outputs": [
    {
     "data": {
      "image/png": "[encoded data removed]",
      "text/plain": [
       "<Figure size 1008x1008 with 2 Axes>"
      ]
     },
     "metadata": {
      "needs_background": "light"
     },
     "output_type": "display_data"
    },
    {
     "data": {
      "text/plain": [
       "array([[0.00186265, 0.99813735, 0.99772294],\n",
       "       [0.99813735, 0.99813735, 0.99813735]])"
      ]
     },
     "execution_count": 63,
     "metadata": {},
     "output_type": "execute_result"
    }
   ],
   "source": [
    "plot_accuracy(a_lbfgs_train,14,2,'LBFGS Training Accuracy')\n",
    "a_lbfgs_train"
   ]
  },
  {
   "cell_type": "code",
   "execution_count": 72,
   "metadata": {},
   "outputs": [],
   "source": [
    "def plot_roc(MVA):\n",
    "    fpr, tpr, threshold = roc_curve(y_test, MVA.predict_proba(X_test)[:,1])\n",
    "    roc_auc = auc(fpr, tpr)\n",
    "    plt.figure()\n",
    "    lw = 2\n",
    "    plt.plot(fpr, tpr, color='darkorange',\n",
    "             lw=lw, label='ROC curve (area = %0.2f)' % roc_auc)\n",
    "    plt.plot([0, 1], [0, 1], color='navy', lw=lw, linestyle='--')\n",
    "    plt.xlim([0.0, 1.0])\n",
    "    plt.ylim([0.0, 1.05])\n",
    "    plt.xlabel('False Positive Rate')\n",
    "    plt.ylabel('True Positive Rate')\n",
    "    plt.title('Receiver operating characteristic example')\n",
    "    plt.legend(loc=\"lower right\")\n",
    "    plt.show()"
   ]
  },
  {
   "cell_type": "code",
   "execution_count": null,
   "metadata": {
    "scrolled": true
   },
   "outputs": [],
   "source": [
    "MVA_LBFGS = MLPClassifier(solver='sgd', alpha=1e-5, hidden_layer_sizes=(20,20,10,10,5,5,5), random_state=1)\n",
    "MVA_LBFGS.fit(X_train,y_train)\n",
    "plot_roc(MVA_LBFGS)\n",
    "MVA_LBFGS.n_layers_"
   ]
  },
  {
   "cell_type": "code",
   "execution_count": 84,
   "metadata": {},
   "outputs": [
    {
     "data": {
      "text/plain": [
       "4"
      ]
     },
     "execution_count": 84,
     "metadata": {},
     "output_type": "execute_result"
    }
   ],
   "source": [
    "MVA_LBFGS.n_layers_"
   ]
  },
  {
   "cell_type": "code",
   "execution_count": null,
   "metadata": {},
   "outputs": [],
   "source": []
  }
 ],
 "metadata": {
  "kernelspec": {
   "display_name": "Python 3",
   "language": "python",
   "name": "python3"
  },
  "language_info": {
   "codemirror_mode": {
    "name": "ipython",
    "version": 3
   },
   "file_extension": ".py",
   "mimetype": "text/x-python",
   "name": "python",
   "nbconvert_exporter": "python",
   "pygments_lexer": "ipython3",
   "version": "3.7.6"
  }
 },
 "nbformat": 4,
 "nbformat_minor": 4
}
